{
 "cells": [
  {
   "cell_type": "code",
   "execution_count": 1,
   "metadata": {},
   "outputs": [],
   "source": [
    "from requests import Request,Session \n",
    "from requests.exceptions import ConnectionError , Timeout , TooManyRedirects \n",
    "\n",
    "import os \n",
    "from time import time \n",
    "from time import sleep\n",
    "\n",
    "import json \n",
    "import pandas as pd \n",
    "\n",
    "\n",
    "pd.set_option('display.max_columns' , None)\n",
    "pd.set_option('display.max_rows' , None)\n"
   ]
  },
  {
   "cell_type": "code",
   "execution_count": 2,
   "metadata": {},
   "outputs": [
    {
     "name": "stdout",
     "output_type": "stream",
     "text": [
      "API Runner completed\n"
     ]
    }
   ],
   "source": [
    "\n",
    "\n",
    "df = pd.DataFrame()  # Initialize an empty DataFrame\n",
    "\n",
    "def api_runner():\n",
    "    global df\n",
    "    url = 'https://pro-api.coinmarketcap.com/v1/cryptocurrency/listings/latest'\n",
    "    parameters = {\n",
    "      'start': '1',\n",
    "      'limit': '15',\n",
    "      'convert': 'USD'\n",
    "    }\n",
    "    headers = {\n",
    "      'Accepts': 'application/json',\n",
    "      'X-CMC_PRO_API_KEY': '0ad53085-1cb2-4eb8-ad9e-3ffbd7e56509',\n",
    "    }\n",
    "\n",
    "    session = Session()\n",
    "    session.headers.update(headers)\n",
    "\n",
    "    try:\n",
    "      response = session.get(url, params=parameters)\n",
    "      data = json.loads(response.text)\n",
    "    except (ConnectionError, Timeout, TooManyRedirects) as e:\n",
    "      print(e)\n",
    "\n",
    "    df2 = pd.json_normalize(data['data'])\n",
    "    df2['Timestamp'] = pd.to_datetime('now', utc=True)\n",
    "    df = pd.concat([df, df2])  # Concatenate the new data to the existing DataFrame\n",
    "\n",
    "    directory = r\"D:\\Webscrappers\\CoinMarketCapital\"\n",
    "    if not os.path.exists(directory):\n",
    "        os.makedirs(directory)\n",
    "\n",
    "    csv_path = os.path.join(directory, 'API.csv')\n",
    "    if not os.path.isfile(csv_path):\n",
    "        df.to_csv(csv_path, header='column_names')\n",
    "    else:\n",
    "        df.to_csv(csv_path, mode='a', header=False, index=False)\n",
    "\n",
    "for i in range(333):\n",
    "    api_runner()\n",
    "    print('API Runner completed')\n",
    "    sleep(60)  # Sleep for 1 minute\n",
    "\n",
    "exit()\n"
   ]
  }
 ],
 "metadata": {
  "kernelspec": {
   "display_name": "Python 3.10.6 ('webscrapper')",
   "language": "python",
   "name": "python3"
  },
  "language_info": {
   "codemirror_mode": {
    "name": "ipython",
    "version": 3
   },
   "file_extension": ".py",
   "mimetype": "text/x-python",
   "name": "python",
   "nbconvert_exporter": "python",
   "pygments_lexer": "ipython3",
   "version": "3.10.12"
  },
  "orig_nbformat": 4,
  "vscode": {
   "interpreter": {
    "hash": "a5de0eb3511747baffff99c3af738513a637dd1c1167328c5fd178c6b127ed74"
   }
  }
 },
 "nbformat": 4,
 "nbformat_minor": 2
}
